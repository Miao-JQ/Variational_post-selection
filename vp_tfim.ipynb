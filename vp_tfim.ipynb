{
 "cells": [
  {
   "cell_type": "markdown",
   "metadata": {},
   "source": [
    "# <center> Variational Post-selection\n",
    "## <center> TFIM"
   ]
  },
  {
   "cell_type": "markdown",
   "metadata": {},
   "source": [
    "## Setup"
   ]
  },
  {
   "cell_type": "code",
   "execution_count": null,
   "metadata": {},
   "outputs": [],
   "source": [
    "import numpy as np\n",
    "import time\n",
    "import tensorflow as tf\n",
    "import tensorcircuit as tc\n",
    "from tensorcircuit.applications.graphdata import Grid2D\n",
    "from tensorcircuit.applications.vags import tfim_measurements_tc\n",
    "import cotengra\n",
    "import csv\n",
    "import scipy\n",
    "\n",
    "optc = cotengra.ReusableHyperOptimizer(\n",
    "    methods=[\"greedy\"],\n",
    "    parallel=\"ray\",\n",
    "    minimize=\"combo\",\n",
    "    max_time=30,\n",
    "    max_repeats=1024,\n",
    "    progbar=True,\n",
    ")\n",
    "tc.set_contractor(\"custom\", optimizer=optc, preprocessing=True)\n",
    "\n",
    "K = tc.set_backend(\"tensorflow\")\n",
    "tc.set_dtype(\"complex128\")"
   ]
  },
  {
   "cell_type": "code",
   "execution_count": null,
   "metadata": {},
   "outputs": [],
   "source": [
    "ns = 12\n",
    "na = 1\n",
    "n = ns + na\n",
    "g = Grid2D(4, 3)"
   ]
  },
  {
   "cell_type": "code",
   "execution_count": null,
   "metadata": {},
   "outputs": [],
   "source": [
    "g1 = tc.templates.graphs.Grid2DCoord(4, 3).lattice_graph(pbc=True)\n",
    "h = tc.quantum.heisenberg_hamiltonian(g1, hzz=1.0, hxx=0.0, hyy=0.0, hx=-1.0, sparse = True, numpy=True)\n",
    "e_anal = min(scipy.sparse.linalg.eigsh(h, which='SA')[0])\n",
    "e_anal"
   ]
  },
  {
   "cell_type": "markdown",
   "metadata": {},
   "source": [
    "## Circuit"
   ]
  },
  {
   "cell_type": "code",
   "execution_count": null,
   "metadata": {},
   "outputs": [],
   "source": [
    "def U(n, depth, params):\n",
    "    params = K.cast(params, \"complex128\")\n",
    "    c = tc.Circuit(n)\n",
    "    idx = 0\n",
    "\n",
    "    for i in range(n):\n",
    "        c.H(i)\n",
    "\n",
    "    for _ in range(depth):\n",
    "        for i in range(n-1):\n",
    "            c.rzz(i, (i + 1) % n, theta=params[idx+i])\n",
    "        idx+=n-1\n",
    "\n",
    "        for i in range(n):\n",
    "            c.rx(i, theta=params[idx+i])\n",
    "        idx+=n\n",
    "\n",
    "    return c, idx"
   ]
  },
  {
   "cell_type": "code",
   "execution_count": null,
   "metadata": {},
   "outputs": [],
   "source": [
    "# circuit visulization, optional\n",
    "p = 1\n",
    "cirq, idx = U(ns, p, np.zeros([1000]))\n",
    "print(\"The number of parameters is\", idx)\n",
    "cirq.draw()"
   ]
  },
  {
   "cell_type": "markdown",
   "metadata": {},
   "source": [
    "## Conventional VQE"
   ]
  },
  {
   "cell_type": "code",
   "execution_count": null,
   "metadata": {},
   "outputs": [],
   "source": [
    "def train(ns, p, e_anal, maxiter=10000, lr=0.01, stddev=1.0):\n",
    "    _, idx = U(ns, p, np.zeros([1000]))\n",
    "    params = tf.Variable(\n",
    "        initial_value=tf.random.normal(\n",
    "            shape=[idx], stddev=stddev, dtype=getattr(tf, tc.rdtypestr)\n",
    "        )\n",
    "    )\n",
    "\n",
    "    exp_lr = tf.keras.optimizers.schedules.ExponentialDecay(\n",
    "        initial_learning_rate=lr, decay_steps=150, decay_rate=0.7\n",
    "    )\n",
    "    opt = tf.keras.optimizers.Adam(exp_lr)\n",
    "\n",
    "    e_list = []\n",
    "    re_list = []\n",
    "    params_list = []\n",
    "    for i in range(maxiter):\n",
    "        with tf.GradientTape() as tape:\n",
    "            c, _ = U(ns, p, params)\n",
    "            e = tfim_measurements_tc(c, g, hzz=1.0, hx=-1.0)\n",
    "        e_list.append(K.real(e).numpy())\n",
    "        re_list.append(np.abs((e_list[-1] - e_anal) / e_anal))\n",
    "        params_list.append(params.numpy())\n",
    "        grads = tape.gradient(e, params)\n",
    "        opt.apply_gradients(zip([grads], [params]))\n",
    "        if (i + 1) % 50 == 0 or i==0:\n",
    "            print(\"epoch{:>4}, e: {:.10f}, re: {:.10f}\".format(i, e_list[-1], re_list[-1]))\n",
    "    \n",
    "    params_list.append(params.numpy())\n",
    "    print(params.numpy())\n",
    "    \n",
    "    return e_list, re_list, params_list"
   ]
  },
  {
   "cell_type": "code",
   "execution_count": null,
   "metadata": {},
   "outputs": [],
   "source": [
    "p = 3\n",
    "maxiter = 1000\n",
    "lr = 0.1\n",
    "stddev = np.pi\n",
    "t = time.gmtime()\n",
    "\n",
    "# train\n",
    "with tf.device(\"/cpu:0\"):\n",
    "    with open('data/tfim_p{}_{}.csv'.format(p, time.strftime(\"%Y_%m%d_%H_%M_%S\",t)), 'w', newline='') as fp1:   # check the filename\n",
    "        with open('data/tfim_p{}_params_{}.csv'.format(p, time.strftime(\"%Y_%m%d_%H_%M_%S\",t)), 'w', newline='') as fp2:   # check the filename\n",
    "            writer1 = csv.writer(fp1)\n",
    "            writer2 = csv.writer(fp2)\n",
    "            for j in range(50):\n",
    "                print(j+1)\n",
    "                e_list, re_list, params_list = train(ns, p, e_anal, maxiter=maxiter, lr=lr, stddev=stddev)\n",
    "                writer1.writerow([j])\n",
    "                writer1.writerow(e_list)\n",
    "                writer1.writerow(re_list)\n",
    "                writer2.writerow([j])\n",
    "                for k in range(maxiter+1):\n",
    "                    writer2.writerow(params_list[k])"
   ]
  },
  {
   "cell_type": "markdown",
   "metadata": {},
   "source": [
    "## Post-selected VQE"
   ]
  },
  {
   "cell_type": "code",
   "execution_count": null,
   "metadata": {},
   "outputs": [],
   "source": [
    "def postselect(n, ns, p, params):\n",
    "    c, _ = U(n, p, params)\n",
    "\n",
    "    w = c.wavefunction()[ : 2**ns]\n",
    "    norm = tf.linalg.norm(w)\n",
    "    w = w / norm\n",
    "    \n",
    "    return tc.Circuit(ns, inputs=w), np.abs(norm)**2"
   ]
  },
  {
   "cell_type": "code",
   "execution_count": null,
   "metadata": {},
   "outputs": [],
   "source": [
    "def train(n, ns, na, p, e_anal, maxiter=10000, lr=0.01, stddev=1.0):\n",
    "    _, idx = U(n, p, np.zeros([1000]))\n",
    "    params = tf.Variable(\n",
    "        initial_value=tf.random.normal(\n",
    "            shape=[idx], stddev=stddev, dtype=getattr(tf, tc.rdtypestr)\n",
    "        )\n",
    "    )\n",
    "\n",
    "    exp_lr = tf.keras.optimizers.schedules.ExponentialDecay(\n",
    "        initial_learning_rate=lr, decay_steps=150, decay_rate=0.7\n",
    "    )\n",
    "    opt = tf.keras.optimizers.Adam(exp_lr)\n",
    "\n",
    "    e_list = []\n",
    "    re_list = []\n",
    "    params_list = []\n",
    "    ps_list = []\n",
    "    for i in range(maxiter):\n",
    "        with tf.GradientTape() as tape:\n",
    "            c_s, norm = postselect(n, ns, p, params)\n",
    "            e = tfim_measurements_tc(c_s, g, hzz=1.0, hx=-1.0)\n",
    "            ps_list.append(norm)\n",
    "        e_list.append(K.real(e).numpy())\n",
    "        re_list.append(np.abs((e_list[-1] - e_anal) / e_anal))\n",
    "        params_list.append(params.numpy())\n",
    "        grads = tape.gradient(e, params)\n",
    "        opt.apply_gradients(zip([grads], [params]))\n",
    "        if (i + 1) % 50 == 0 or i==0:\n",
    "            print(\"epoch{:>4}, e: {:.10f}, re: {:.10f}\".format(i, e_list[-1], re_list[-1]))\n",
    "    \n",
    "    params_list.append(params.numpy())\n",
    "    print(params.numpy())\n",
    "\n",
    "    return e_list, re_list, params_list, ps_list"
   ]
  },
  {
   "cell_type": "code",
   "execution_count": null,
   "metadata": {},
   "outputs": [],
   "source": [
    "p = 3\n",
    "maxiter = 1000\n",
    "lr = 0.1\n",
    "stddev = np.pi\n",
    "t = time.gmtime()\n",
    "\n",
    "# train\n",
    "with tf.device(\"/cpu:0\"):\n",
    "    with open('data/tfim_ps_p{}_{}.csv'.format(p, time.strftime(\"%Y_%m%d_%H_%M_%S\",t)), 'w', newline='') as fp1:   # check the filename\n",
    "        with open('data/tfim_ps_p{}_params_{}.csv'.format(p, time.strftime(\"%Y_%m%d_%H_%M_%S\",t)), 'w', newline='') as fp2:   # check the filename\n",
    "            writer1 = csv.writer(fp1)\n",
    "            writer2 = csv.writer(fp2)\n",
    "            for j in range(50):\n",
    "                print(j+1)\n",
    "                e_list, re_list, params_list, ps_list = train(n, ns, na, p, e_anal, maxiter=maxiter, lr=lr, stddev=stddev)\n",
    "                writer1.writerow([j])\n",
    "                writer1.writerow(e_list)\n",
    "                writer1.writerow(re_list)\n",
    "                writer1.writerow(ps_list)\n",
    "\n",
    "                writer2.writerow([j])\n",
    "                writer2.writerows(params_list)"
   ]
  }
 ],
 "metadata": {
  "kernelspec": {
   "display_name": "Python 3",
   "language": "python",
   "name": "python3"
  },
  "language_info": {
   "codemirror_mode": {
    "name": "ipython",
    "version": 3
   },
   "file_extension": ".py",
   "mimetype": "text/x-python",
   "name": "python",
   "nbconvert_exporter": "python",
   "pygments_lexer": "ipython3",
   "version": "3.9.12"
  },
  "orig_nbformat": 4
 },
 "nbformat": 4,
 "nbformat_minor": 2
}
